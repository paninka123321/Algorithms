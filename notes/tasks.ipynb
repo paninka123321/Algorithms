{
 "cells": [
  {
   "cell_type": "code",
   "execution_count": null,
   "metadata": {},
   "outputs": [],
   "source": [
    "def adv_counting_table(list1):\n",
    "    max_list1 = max(list1)\n",
    "    min_list1 = min(list1)\n",
    "    length_tab = max_list1 - min_list1 + 1\n",
    "    tab = [0] * length_tab\n",
    "    for k in list1:\n",
    "            tab[k - min_list1] +=1\n",
    "\n",
    "    return tab"
   ]
  },
  {
   "cell_type": "code",
   "execution_count": null,
   "metadata": {},
   "outputs": [],
   "source": [
    "def universal_count_table(min_val,max_val,list):\n",
    "     length_tab = max_val - min_val + 1\n",
    "     tab = [0] * length_tab\n",
    "     for k in list:\n",
    "            tab[k - min_val] +=1\n",
    "\n",
    "     return tab"
   ]
  },
  {
   "cell_type": "code",
   "execution_count": null,
   "metadata": {},
   "outputs": [],
   "source": [
    "# zad 1\n",
    "a=[1,1,1,4]\n",
    "c=adv_counting_table(a)\n",
    "for i in range (0,len(a)):\n",
    "     if c[i]==0 :\n",
    "          print(\"Ciag nie jest permutacją\")\n",
    "          break\n",
    "print(\"Ciag jest permutacjia\")"
   ]
  },
  {
   "cell_type": "code",
   "execution_count": null,
   "metadata": {},
   "outputs": [],
   "source": [
    "# zad 2\n",
    "\n",
    "import random\n",
    "list=[]\n",
    "b=random.randint(0,10)\n",
    "for i in range(0,b):\n",
    "    list.append(random.randint(0,b))\n",
    "print(b)\n",
    "print(list)\n",
    "l=0\n",
    "print(universal_count_table(0,b,list))\n",
    "for j in range(0,1000):   \n",
    "    for i in range(0,b):\n",
    "        if universal_count_table(0,b,list)[i]==0:\n",
    "            list.append(random.randint(0,b))\n",
    "            print(universal_count_table(0,b,list))\n",
    "            l=l+1\n",
    "else:\n",
    "    print(\"succ\")\n",
    "    print(l)"
   ]
  },
  {
   "cell_type": "code",
   "execution_count": null,
   "metadata": {},
   "outputs": [],
   "source": [
    "# zad 2 metoda lepsza\n",
    "\n",
    "import random\n",
    "list=[]\n",
    "b=random.randint(0,10)\n",
    "for i in range(0,b):\n",
    "    list.append(random.randint(0,b))\n",
    "print(list)\n",
    "l=0\n",
    "print(universal_count_table(0,b,list))\n",
    "while universal_count_table(0,b,list).count(0)!=0:\n",
    "    list.append(random.randint(0,b))\n",
    "    l=l+1       \n",
    "else:\n",
    "    print(l)\n",
    "    print(universal_count_table(0,b,list))"
   ]
  },
  {
   "cell_type": "code",
   "execution_count": null,
   "metadata": {},
   "outputs": [],
   "source": [
    "# zad 3   jak sie zabezpieczyc przed zla liczba????????????\n",
    "    \n",
    "\n",
    "n= int(input(\"Podaj liczbe przycisków:\"))\n",
    "m= int(input(\"Podaj liczbe prób:\"))\n",
    "lista=[]\n",
    "tab=[0]*n\n",
    "for i in range(0,m):\n",
    "    x=int(input(\"Podaj wyraz listy\"))\n",
    "    lista.append(x)\n",
    "    if x in range(1,n+1):\n",
    "        tab[x-1]=tab[x-1]+1\n",
    "    elif x==n+1:\n",
    "        for j in range(0,n):\n",
    "            tab[j]=max(tab)\n",
    "print(n)\n",
    "print(m)\n",
    "print(lista)\n",
    "print(tab)\n",
    "\n",
    "   "
   ]
  },
  {
   "cell_type": "code",
   "execution_count": 1,
   "metadata": {},
   "outputs": [],
   "source": [
    "def adv_counting_table(list1):\n",
    "    max_list1 = max(list1)\n",
    "    min_list1 = min(list1)\n",
    "    length_tab = max_list1 - min_list1 + 1\n",
    "    tab = [0] * length_tab\n",
    "    for k in list1:\n",
    "            tab[k - min_list1] +=1\n",
    "\n",
    "    return tab"
   ]
  }
 ],
 "metadata": {
  "kernelspec": {
   "display_name": "Python 3",
   "language": "python",
   "name": "python3"
  },
  "language_info": {
   "codemirror_mode": {
    "name": "ipython",
    "version": 3
   },
   "file_extension": ".py",
   "mimetype": "text/x-python",
   "name": "python",
   "nbconvert_exporter": "python",
   "pygments_lexer": "ipython3",
   "version": "3.12.0"
  }
 },
 "nbformat": 4,
 "nbformat_minor": 2
}
