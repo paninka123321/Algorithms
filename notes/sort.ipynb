{
 "cells": [
  {
   "cell_type": "markdown",
   "metadata": {},
   "source": [
    "## Sorting with selection"
   ]
  },
  {
   "cell_type": "markdown",
   "metadata": {},
   "source": [
    "Example list (named 'kolejka')"
   ]
  },
  {
   "cell_type": "code",
   "execution_count": 16,
   "metadata": {},
   "outputs": [],
   "source": [
    "kolejka = [3,4,7,2,8,11,9]"
   ]
  },
  {
   "cell_type": "code",
   "execution_count": 12,
   "metadata": {},
   "outputs": [],
   "source": [
    "for k in range(len(kolejka)-1):\n",
    "    for j in range(k+1,len(kolejka)):\n",
    "        if kolejka[k]> kolejka[j]:\n",
    "            pom = kolejka[k]\n",
    "            kolejka[k] = kolejka[j]\n",
    "            kolejka[j] = pom\n",
    "\n",
    "\n",
    "    "
   ]
  },
  {
   "cell_type": "code",
   "execution_count": 13,
   "metadata": {},
   "outputs": [
    {
     "data": {
      "text/plain": [
       "[2, 3, 4, 7, 8, 9, 11]"
      ]
     },
     "execution_count": 13,
     "metadata": {},
     "output_type": "execute_result"
    }
   ],
   "source": [
    "kolejka"
   ]
  },
  {
   "cell_type": "code",
   "execution_count": 17,
   "metadata": {},
   "outputs": [
    {
     "name": "stdout",
     "output_type": "stream",
     "text": [
      "[3, 4, 7, 2, 8, 11, 9]\n",
      "[3, 4, 7, 2, 8, 11, 9]\n",
      "[2, 4, 7, 3, 8, 11, 9]\n",
      "[2, 4, 7, 3, 8, 11, 9]\n",
      "[2, 4, 7, 3, 8, 11, 9]\n",
      "[2, 4, 7, 3, 8, 11, 9]\n",
      "[2, 4, 7, 3, 8, 11, 9]\n",
      "[2, 3, 7, 4, 8, 11, 9]\n",
      "[2, 3, 7, 4, 8, 11, 9]\n",
      "[2, 3, 7, 4, 8, 11, 9]\n",
      "[2, 3, 7, 4, 8, 11, 9]\n",
      "[2, 3, 4, 7, 8, 11, 9]\n",
      "[2, 3, 4, 7, 8, 11, 9]\n",
      "[2, 3, 4, 7, 8, 11, 9]\n",
      "[2, 3, 4, 7, 8, 11, 9]\n",
      "[2, 3, 4, 7, 8, 11, 9]\n",
      "[2, 3, 4, 7, 8, 11, 9]\n",
      "[2, 3, 4, 7, 8, 11, 9]\n",
      "[2, 3, 4, 7, 8, 11, 9]\n",
      "[2, 3, 4, 7, 8, 11, 9]\n",
      "[2, 3, 4, 7, 8, 9, 11]\n"
     ]
    }
   ],
   "source": [
    "for k in range(len(kolejka)-1):\n",
    "    for j in range(k+1,len(kolejka)):\n",
    "        if kolejka[k]> kolejka[j]:\n",
    "            pom = kolejka[k]\n",
    "            kolejka[k] = kolejka[j]\n",
    "            kolejka[j] = pom\n",
    "        print(kolejka)"
   ]
  },
  {
   "cell_type": "code",
   "execution_count": 109,
   "metadata": {},
   "outputs": [
    {
     "data": {
      "text/plain": [
       "[2, 3, 4, 7, 8, 9, 11]"
      ]
     },
     "execution_count": 109,
     "metadata": {},
     "output_type": "execute_result"
    }
   ],
   "source": [
    "kolejka"
   ]
  },
  {
   "cell_type": "code",
   "execution_count": 10,
   "metadata": {},
   "outputs": [
    {
     "data": {
      "text/plain": [
       "[2, 3, 4, 7, 8, 9, 11]"
      ]
     },
     "execution_count": 10,
     "metadata": {},
     "output_type": "execute_result"
    }
   ],
   "source": [
    "list1 = [3,4,7,2,8,11,9]\n",
    "m=len(list1)\n",
    "tab = []\n",
    "consecutive_min_list = []\n",
    "for i in range(m):\n",
    "    tab.append(min(list1))\n",
    "    list1.remove(min(list1))\n",
    "tab"
   ]
  },
  {
   "cell_type": "code",
   "execution_count": 6,
   "metadata": {},
   "outputs": [
    {
     "data": {
      "text/plain": [
       "2"
      ]
     },
     "execution_count": 6,
     "metadata": {},
     "output_type": "execute_result"
    }
   ],
   "source": [
    "list1 = [3,4,7,2,8,11,9]\n",
    "min(list1)"
   ]
  },
  {
   "cell_type": "code",
   "execution_count": 8,
   "metadata": {},
   "outputs": [
    {
     "name": "stdout",
     "output_type": "stream",
     "text": [
      "0\n",
      "1\n",
      "2\n",
      "3\n",
      "4\n",
      "5\n",
      "6\n",
      "7\n",
      "8\n",
      "9\n"
     ]
    }
   ],
   "source": [
    "list1 = [3,4,7,2,8,11,9]\n",
    "m=max(list1)-1\n",
    "for i in range(m):\n",
    "    print(i)"
   ]
  },
  {
   "cell_type": "markdown",
   "metadata": {},
   "source": [
    "## Task 1"
   ]
  },
  {
   "cell_type": "markdown",
   "metadata": {},
   "source": [
    "Assume we have sequence of n > 0  integer a_0, a_1, ..., a_(n-1). Count, how many different numbers are in this seq. "
   ]
  },
  {
   "cell_type": "code",
   "execution_count": 12,
   "metadata": {},
   "outputs": [],
   "source": [
    "a = [6,4,5,3,2,3,1,3,4,5,6,7,8,9,5,6]"
   ]
  },
  {
   "cell_type": "markdown",
   "metadata": {},
   "source": [
    "### option A"
   ]
  },
  {
   "cell_type": "code",
   "execution_count": 6,
   "metadata": {},
   "outputs": [
    {
     "data": {
      "text/plain": [
       "9"
      ]
     },
     "execution_count": 6,
     "metadata": {},
     "output_type": "execute_result"
    }
   ],
   "source": [
    "b = []\n",
    "for i in a:\n",
    "    if i not in b:\n",
    "        b.append(i)\n",
    "len(b)"
   ]
  },
  {
   "cell_type": "markdown",
   "metadata": {},
   "source": [
    "### option B"
   ]
  },
  {
   "cell_type": "code",
   "execution_count": 19,
   "metadata": {},
   "outputs": [],
   "source": [
    "def sort(list1):\n",
    "    for k in range(len(list1)-1):\n",
    "        for j in range(k+1,len(list1)):\n",
    "            if list1[k]> list1[j]:\n",
    "                pom = list1[k]\n",
    "                list1[k] = list1[j]\n",
    "                list1[j] = pom\n",
    "    return list1"
   ]
  },
  {
   "cell_type": "code",
   "execution_count": 22,
   "metadata": {},
   "outputs": [
    {
     "data": {
      "text/plain": [
       "9"
      ]
     },
     "execution_count": 22,
     "metadata": {},
     "output_type": "execute_result"
    }
   ],
   "source": [
    "wynik = 1\n",
    "sort_a = sort(a)\n",
    "for i in range(1, len(a)):\n",
    "    if sort_a[i] != sort_a[i-1]:\n",
    "        wynik += 1\n",
    "wynik"
   ]
  },
  {
   "cell_type": "markdown",
   "metadata": {},
   "source": [
    "## Task 2"
   ]
  },
  {
   "cell_type": "markdown",
   "metadata": {},
   "source": [
    "Assume we have n integers a_0, ..., a_(n-1). We want to find three indices: x, y, z, (0<= x < y < z < n), that a_x * a_y * a_z is the biggest."
   ]
  },
  {
   "cell_type": "markdown",
   "metadata": {},
   "source": [
    "### Opt 1 (using slection sorting)"
   ]
  },
  {
   "cell_type": "code",
   "execution_count": 28,
   "metadata": {},
   "outputs": [
    {
     "data": {
      "text/plain": [
       "504"
      ]
     },
     "execution_count": 28,
     "metadata": {},
     "output_type": "execute_result"
    }
   ],
   "source": [
    "a = [6,4,5,3,2,3,1,3,4,5,6,7,8,9,5,6]\n",
    "a_sort = sort(a)\n",
    "biggest_mult = a_sort[-1] * a_sort[-2] * a_sort[-3]\n",
    "biggest_mult"
   ]
  },
  {
   "cell_type": "code",
   "execution_count": 36,
   "metadata": {},
   "outputs": [
    {
     "data": {
      "text/plain": [
       "315"
      ]
     },
     "execution_count": 36,
     "metadata": {},
     "output_type": "execute_result"
    }
   ],
   "source": [
    "a2 = [-3, 5, 7, -2, 9, 4, -10, 2, 3, -5, 0]\n",
    "a_sort2 = sort(a2)\n",
    "biggest_mult = a_sort2[-1] * a_sort2[-2] * a_sort2[-3]\n",
    "biggest_mult"
   ]
  },
  {
   "cell_type": "markdown",
   "metadata": {},
   "source": [
    "### Opt 2 (using counting table)"
   ]
  },
  {
   "cell_type": "code",
   "execution_count": 39,
   "metadata": {},
   "outputs": [
    {
     "data": {
      "text/plain": [
       "315"
      ]
     },
     "execution_count": 39,
     "metadata": {},
     "output_type": "execute_result"
    }
   ],
   "source": [
    "a2 = [-3, 5, 7, -2, 9, 4, -10, 2, 3, -5, 0]\n",
    "maks = max(a2)\n",
    "minimum = min(a2)\n",
    "dlugosc = maks - minimum + 1\n",
    "tab = [0] * dlugosc\n",
    "for k in a2:\n",
    "        tab[k - minimum] +=1\n",
    "sorted_tab_adv = []\n",
    "j = min(a2)\n",
    "for i in tab:\n",
    "    sorted_tab_adv += i * [j]\n",
    "    j += 1\n",
    "biggest_mult = sorted_tab_adv[-1] * sorted_tab_adv[-2] * sorted_tab_adv[-3]\n",
    "biggest_mult"
   ]
  }
 ],
 "metadata": {
  "kernelspec": {
   "display_name": "Python 3",
   "language": "python",
   "name": "python3"
  },
  "language_info": {
   "codemirror_mode": {
    "name": "ipython",
    "version": 3
   },
   "file_extension": ".py",
   "mimetype": "text/x-python",
   "name": "python",
   "nbconvert_exporter": "python",
   "pygments_lexer": "ipython3",
   "version": "3.10.8"
  }
 },
 "nbformat": 4,
 "nbformat_minor": 2
}
