{
 "cells": [
  {
   "cell_type": "markdown",
   "metadata": {},
   "source": [
    "### Sorting with selection"
   ]
  },
  {
   "cell_type": "markdown",
   "metadata": {},
   "source": [
    "Example list (named 'kolejka')"
   ]
  },
  {
   "cell_type": "code",
   "execution_count": 16,
   "metadata": {},
   "outputs": [],
   "source": [
    "kolejka = [3,4,7,2,8,11,9]"
   ]
  },
  {
   "cell_type": "code",
   "execution_count": 12,
   "metadata": {},
   "outputs": [],
   "source": [
    "for k in range(len(kolejka)-1):\n",
    "    for j in range(k+1,len(kolejka)):\n",
    "        if kolejka[k]> kolejka[j]:\n",
    "            pom = kolejka[k]\n",
    "            kolejka[k] = kolejka[j]\n",
    "            kolejka[j] = pom\n",
    "\n",
    "\n",
    "    "
   ]
  },
  {
   "cell_type": "code",
   "execution_count": 13,
   "metadata": {},
   "outputs": [
    {
     "data": {
      "text/plain": [
       "[2, 3, 4, 7, 8, 9, 11]"
      ]
     },
     "execution_count": 13,
     "metadata": {},
     "output_type": "execute_result"
    }
   ],
   "source": [
    "kolejka"
   ]
  },
  {
   "cell_type": "code",
   "execution_count": 17,
   "metadata": {},
   "outputs": [
    {
     "name": "stdout",
     "output_type": "stream",
     "text": [
      "[3, 4, 7, 2, 8, 11, 9]\n",
      "[3, 4, 7, 2, 8, 11, 9]\n",
      "[2, 4, 7, 3, 8, 11, 9]\n",
      "[2, 4, 7, 3, 8, 11, 9]\n",
      "[2, 4, 7, 3, 8, 11, 9]\n",
      "[2, 4, 7, 3, 8, 11, 9]\n",
      "[2, 4, 7, 3, 8, 11, 9]\n",
      "[2, 3, 7, 4, 8, 11, 9]\n",
      "[2, 3, 7, 4, 8, 11, 9]\n",
      "[2, 3, 7, 4, 8, 11, 9]\n",
      "[2, 3, 7, 4, 8, 11, 9]\n",
      "[2, 3, 4, 7, 8, 11, 9]\n",
      "[2, 3, 4, 7, 8, 11, 9]\n",
      "[2, 3, 4, 7, 8, 11, 9]\n",
      "[2, 3, 4, 7, 8, 11, 9]\n",
      "[2, 3, 4, 7, 8, 11, 9]\n",
      "[2, 3, 4, 7, 8, 11, 9]\n",
      "[2, 3, 4, 7, 8, 11, 9]\n",
      "[2, 3, 4, 7, 8, 11, 9]\n",
      "[2, 3, 4, 7, 8, 11, 9]\n",
      "[2, 3, 4, 7, 8, 9, 11]\n"
     ]
    }
   ],
   "source": [
    "for k in range(len(kolejka)-1):\n",
    "    for j in range(k+1,len(kolejka)):\n",
    "        if kolejka[k]> kolejka[j]:\n",
    "            pom = kolejka[k]\n",
    "            kolejka[k] = kolejka[j]\n",
    "            kolejka[j] = pom\n",
    "        print(kolejka)"
   ]
  },
  {
   "cell_type": "code",
   "execution_count": 109,
   "metadata": {},
   "outputs": [
    {
     "data": {
      "text/plain": [
       "[2, 3, 4, 7, 8, 9, 11]"
      ]
     },
     "execution_count": 109,
     "metadata": {},
     "output_type": "execute_result"
    }
   ],
   "source": [
    "kolejka"
   ]
  },
  {
   "cell_type": "code",
   "execution_count": 10,
   "metadata": {},
   "outputs": [
    {
     "data": {
      "text/plain": [
       "[2, 3, 4, 7, 8, 9, 11]"
      ]
     },
     "execution_count": 10,
     "metadata": {},
     "output_type": "execute_result"
    }
   ],
   "source": [
    "list1 = [3,4,7,2,8,11,9]\n",
    "m=len(list1)\n",
    "tab = []\n",
    "consecutive_min_list = []\n",
    "for i in range(m):\n",
    "    tab.append(min(list1))\n",
    "    list1.remove(min(list1))\n",
    "tab"
   ]
  },
  {
   "cell_type": "code",
   "execution_count": 6,
   "metadata": {},
   "outputs": [
    {
     "data": {
      "text/plain": [
       "2"
      ]
     },
     "execution_count": 6,
     "metadata": {},
     "output_type": "execute_result"
    }
   ],
   "source": [
    "list1 = [3,4,7,2,8,11,9]\n",
    "min(list1)"
   ]
  },
  {
   "cell_type": "code",
   "execution_count": 8,
   "metadata": {},
   "outputs": [
    {
     "name": "stdout",
     "output_type": "stream",
     "text": [
      "0\n",
      "1\n",
      "2\n",
      "3\n",
      "4\n",
      "5\n",
      "6\n",
      "7\n",
      "8\n",
      "9\n"
     ]
    }
   ],
   "source": [
    "list1 = [3,4,7,2,8,11,9]\n",
    "m=max(list1)-1\n",
    "for i in range(m):\n",
    "    print(i)"
   ]
  },
  {
   "cell_type": "code",
   "execution_count": null,
   "metadata": {},
   "outputs": [],
   "source": []
  }
 ],
 "metadata": {
  "kernelspec": {
   "display_name": "Python 3",
   "language": "python",
   "name": "python3"
  },
  "language_info": {
   "codemirror_mode": {
    "name": "ipython",
    "version": 3
   },
   "file_extension": ".py",
   "mimetype": "text/x-python",
   "name": "python",
   "nbconvert_exporter": "python",
   "pygments_lexer": "ipython3",
   "version": "3.10.8"
  }
 },
 "nbformat": 4,
 "nbformat_minor": 2
}
