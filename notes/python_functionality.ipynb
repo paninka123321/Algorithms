{
 "cells": [
  {
   "cell_type": "markdown",
   "metadata": {},
   "source": [
    "This notebook is a place for conducting experiments with python tricks and functionalities to better understand this language"
   ]
  },
  {
   "cell_type": "markdown",
   "metadata": {},
   "source": [
    "## while:"
   ]
  },
  {
   "cell_type": "code",
   "execution_count": 7,
   "metadata": {},
   "outputs": [
    {
     "name": "stdout",
     "output_type": "stream",
     "text": [
      "0\n",
      "1\n",
      "2\n",
      "3\n",
      "4\n",
      "5\n",
      "6\n"
     ]
    }
   ],
   "source": [
    "kolejka = [3,4,7,2,8,11,9]\n",
    "k = 0\n",
    "while k<len(kolejka):\n",
    "    print(k)\n",
    "    k +=1"
   ]
  },
  {
   "cell_type": "markdown",
   "metadata": {},
   "source": [
    "## Something from sorting notes (things that rather don't work):"
   ]
  },
  {
   "cell_type": "code",
   "execution_count": 10,
   "metadata": {},
   "outputs": [],
   "source": [
    "kolejka = [3,4,7,2,8,11,9]\n",
    "for k in range(len(kolejka)-1):\n",
    "    l = k\n",
    "    while l < len(kolejka):\n",
    "        if kolejka[k] > kolejka[l]:\n",
    "            min = kolejka[l]\n",
    "            kolejka[k] = kolejka[l]\n",
    "        l = l+1"
   ]
  },
  {
   "cell_type": "code",
   "execution_count": 11,
   "metadata": {},
   "outputs": [
    {
     "data": {
      "text/plain": [
       "[2, 2, 2, 2, 8, 9, 9]"
      ]
     },
     "execution_count": 11,
     "metadata": {},
     "output_type": "execute_result"
    }
   ],
   "source": [
    "kolejka"
   ]
  },
  {
   "cell_type": "code",
   "execution_count": 15,
   "metadata": {},
   "outputs": [],
   "source": [
    "kolejka = [3,4,7,2,8,11,9]"
   ]
  },
  {
   "cell_type": "code",
   "execution_count": 14,
   "metadata": {},
   "outputs": [
    {
     "name": "stdout",
     "output_type": "stream",
     "text": [
      "[3, 4, 7, 2, 8, 11, 9]\n",
      "[3, 4, 7, 2, 8, 11, 9]\n",
      "[3, 4, 2, 7, 8, 11, 9]\n",
      "[3, 4, 2, 7, 8, 11, 9]\n",
      "[3, 4, 2, 7, 8, 11, 9]\n",
      "[3, 4, 2, 7, 8, 9, 11]\n",
      "[3, 4, 2, 7, 8, 9, 11]\n",
      "[3, 2, 4, 7, 8, 9, 11]\n",
      "[3, 2, 4, 7, 8, 9, 11]\n",
      "[3, 2, 4, 7, 8, 9, 11]\n",
      "[3, 2, 4, 7, 8, 9, 11]\n",
      "[3, 2, 4, 7, 8, 9, 11]\n",
      "[2, 3, 4, 7, 8, 9, 11]\n",
      "[2, 3, 4, 7, 8, 9, 11]\n",
      "[2, 3, 4, 7, 8, 9, 11]\n",
      "[2, 3, 4, 7, 8, 9, 11]\n",
      "[2, 3, 4, 7, 8, 9, 11]\n",
      "[2, 3, 4, 7, 8, 9, 11]\n",
      "[2, 3, 4, 7, 8, 9, 11]\n",
      "[2, 3, 4, 7, 8, 9, 11]\n",
      "[2, 3, 4, 7, 8, 9, 11]\n",
      "[2, 3, 4, 7, 8, 9, 11]\n",
      "[2, 3, 4, 7, 8, 9, 11]\n",
      "[2, 3, 4, 7, 8, 9, 11]\n",
      "[2, 3, 4, 7, 8, 9, 11]\n",
      "[2, 3, 4, 7, 8, 9, 11]\n",
      "[2, 3, 4, 7, 8, 9, 11]\n",
      "[2, 3, 4, 7, 8, 9, 11]\n",
      "[2, 3, 4, 7, 8, 9, 11]\n",
      "[2, 3, 4, 7, 8, 9, 11]\n",
      "[2, 3, 4, 7, 8, 9, 11]\n",
      "[2, 3, 4, 7, 8, 9, 11]\n",
      "[2, 3, 4, 7, 8, 9, 11]\n",
      "[2, 3, 4, 7, 8, 9, 11]\n",
      "[2, 3, 4, 7, 8, 9, 11]\n",
      "[2, 3, 4, 7, 8, 9, 11]\n"
     ]
    }
   ],
   "source": [
    "for j in range(len(kolejka)-1):\n",
    "   \n",
    "   for k in range(len(kolejka)- 1):\n",
    "    if kolejka[k]>kolejka[k+1]:\n",
    "        x=kolejka[k]\n",
    "        kolejka[k]=kolejka[k+1]\n",
    "        kolejka[k+1]=x\n",
    "    kolejka[0+k]=kolejka[k]\n",
    "    print(kolejka)\n",
    "  \n",
    "\n"
   ]
  },
  {
   "cell_type": "code",
   "execution_count": 16,
   "metadata": {},
   "outputs": [
    {
     "name": "stdout",
     "output_type": "stream",
     "text": [
      "[3, 4, 7, 2, 8, 11, 9]\n",
      "[3, 4, 7, 2, 8, 11, 9]\n",
      "[2, 4, 7, 3, 8, 11, 9]\n",
      "[2, 4, 7, 3, 8, 11, 9]\n",
      "[2, 4, 7, 3, 8, 11, 9]\n",
      "[2, 4, 7, 3, 8, 11, 9]\n",
      "[2, 4, 7, 3, 8, 11, 9]\n",
      "[2, 3, 7, 4, 8, 11, 9]\n",
      "[2, 3, 7, 4, 8, 11, 9]\n",
      "[2, 3, 7, 4, 8, 11, 9]\n",
      "[2, 3, 7, 4, 8, 11, 9]\n",
      "[2, 3, 4, 7, 8, 11, 9]\n",
      "[2, 3, 4, 7, 8, 11, 9]\n",
      "[2, 3, 4, 7, 8, 11, 9]\n",
      "[2, 3, 4, 7, 8, 11, 9]\n",
      "[2, 3, 4, 7, 8, 11, 9]\n",
      "[2, 3, 4, 7, 8, 11, 9]\n",
      "[2, 3, 4, 7, 8, 11, 9]\n",
      "[2, 3, 4, 7, 8, 11, 9]\n",
      "[2, 3, 4, 7, 8, 11, 9]\n",
      "[2, 3, 4, 7, 8, 9, 11]\n"
     ]
    }
   ],
   "source": [
    "for k in range(len(kolejka)-1):\n",
    "    for j in range(k+1,len(kolejka)):\n",
    "        if kolejka[k]>kolejka[j]:\n",
    "            x=kolejka[k]\n",
    "            kolejka[k]=kolejka[j]\n",
    "            kolejka[j]=x\n",
    "        print(kolejka)\n",
    "\n",
    "        kolejka[0+k]=kolejka[k]"
   ]
  }
 ],
 "metadata": {
  "kernelspec": {
   "display_name": "Python 3",
   "language": "python",
   "name": "python3"
  },
  "language_info": {
   "codemirror_mode": {
    "name": "ipython",
    "version": 3
   },
   "file_extension": ".py",
   "mimetype": "text/x-python",
   "name": "python",
   "nbconvert_exporter": "python",
   "pygments_lexer": "ipython3",
   "version": "3.10.8"
  }
 },
 "nbformat": 4,
 "nbformat_minor": 2
}
